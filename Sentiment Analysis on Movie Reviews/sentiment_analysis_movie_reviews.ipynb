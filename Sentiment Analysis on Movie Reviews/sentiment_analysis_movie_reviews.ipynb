{
 "cells": [
  {
   "cell_type": "markdown",
   "id": "05e7ab80",
   "metadata": {},
   "source": [
    "# Project Introduction\n",
    "\n",
    "This project develops a machine learning model for sentiment analysis on movie reviews, aiming to classify reviews as positive or negative. The workflow includes:\n",
    "- Data collection (real-world datasets like IMDb or Rotten Tomatoes)\n",
    "- Text preprocessing (cleaning, normalization)\n",
    "- Model training (Naive Bayes, easily extendable to Logistic Regression/SVM)\n",
    "- Evaluation (accuracy, classification report)\n",
    "- Prediction on new reviews\n",
    "\n",
    "---\n",
    "# Sentiment Analysis on Movie Reviews\n",
    "\n",
    "This notebook demonstrates how to perform sentiment analysis on movie reviews using Python. We use a dataset of movie reviews, preprocess the text, train a sentiment analysis model, and test it on sample reviews."
   ]
  },
  {
   "cell_type": "markdown",
   "id": "188d2abd",
   "metadata": {},
   "source": [
    "## 1. Import Required Libraries\n",
    "\n",
    "Let's import the necessary libraries for data processing, visualization, and machine learning."
   ]
  },
  {
   "cell_type": "code",
   "execution_count": 17,
   "id": "e0f07069",
   "metadata": {},
   "outputs": [],
   "source": [
    "import numpy as np\n",
    "import pandas as pd\n",
    "import matplotlib.pyplot as plt\n",
    "import seaborn as sns\n",
    "from sklearn.model_selection import train_test_split\n",
    "from sklearn.feature_extraction.text import CountVectorizer\n",
    "from sklearn.naive_bayes import MultinomialNB\n",
    "from sklearn.metrics import classification_report, confusion_matrix, accuracy_score\n",
    "import re\n",
    "from sklearn.feature_extraction.text import ENGLISH_STOP_WORDS"
   ]
  },
  {
   "cell_type": "markdown",
   "id": "9a1a14b7",
   "metadata": {},
   "source": [
    "## 2. Load Real-World Movie Reviews Data\n",
    "\n",
    "To use real-world data, download a dataset (e.g., IMDb, Rotten Tomatoes, or Kaggle) and place the CSV file in your project directory. The file should have columns like 'review' and 'sentiment'.\n",
    "\n",
    "Uncomment and edit the code in the next cell to load your real dataset. If your column names are different, update the rest of the notebook accordingly."
   ]
  },
  {
   "cell_type": "code",
   "execution_count": 18,
   "id": "15116851",
   "metadata": {},
   "outputs": [
    {
     "data": {
      "text/html": [
       "<div>\n",
       "<style scoped>\n",
       "    .dataframe tbody tr th:only-of-type {\n",
       "        vertical-align: middle;\n",
       "    }\n",
       "\n",
       "    .dataframe tbody tr th {\n",
       "        vertical-align: top;\n",
       "    }\n",
       "\n",
       "    .dataframe thead th {\n",
       "        text-align: right;\n",
       "    }\n",
       "</style>\n",
       "<table border=\"1\" class=\"dataframe\">\n",
       "  <thead>\n",
       "    <tr style=\"text-align: right;\">\n",
       "      <th></th>\n",
       "      <th>review</th>\n",
       "      <th>sentiment</th>\n",
       "    </tr>\n",
       "  </thead>\n",
       "  <tbody>\n",
       "    <tr>\n",
       "      <th>0</th>\n",
       "      <td>I loved this movie, it was fantastic!</td>\n",
       "      <td>1</td>\n",
       "    </tr>\n",
       "    <tr>\n",
       "      <th>1</th>\n",
       "      <td>Absolutely terrible. Waste of time.</td>\n",
       "      <td>0</td>\n",
       "    </tr>\n",
       "    <tr>\n",
       "      <th>2</th>\n",
       "      <td>A wonderful experience, would watch again.</td>\n",
       "      <td>1</td>\n",
       "    </tr>\n",
       "    <tr>\n",
       "      <th>3</th>\n",
       "      <td>Not my cup of tea. Pretty boring.</td>\n",
       "      <td>0</td>\n",
       "    </tr>\n",
       "    <tr>\n",
       "      <th>4</th>\n",
       "      <td>Great acting and story!</td>\n",
       "      <td>1</td>\n",
       "    </tr>\n",
       "  </tbody>\n",
       "</table>\n",
       "</div>"
      ],
      "text/plain": [
       "                                       review  sentiment\n",
       "0       I loved this movie, it was fantastic!          1\n",
       "1         Absolutely terrible. Waste of time.          0\n",
       "2  A wonderful experience, would watch again.          1\n",
       "3           Not my cup of tea. Pretty boring.          0\n",
       "4                     Great acting and story!          1"
      ]
     },
     "execution_count": 18,
     "metadata": {},
     "output_type": "execute_result"
    }
   ],
   "source": [
    "# Use a small sample dataset for development/testing\n",
    "sample_data = {\n",
    "    'review': [\n",
    "        'I loved this movie, it was fantastic!',\n",
    "        'Absolutely terrible. Waste of time.',\n",
    "        'A wonderful experience, would watch again.',\n",
    "        'Not my cup of tea. Pretty boring.',\n",
    "        'Great acting and story!',\n",
    "        'The plot was dull and predictable.'\n",
    "    ],\n",
    "    'sentiment': [1, 0, 1, 0, 1, 0]\n",
    "}\n",
    "df = pd.DataFrame(sample_data)\n",
    "df.head()"
   ]
  },
  {
   "cell_type": "markdown",
   "id": "be88cac1",
   "metadata": {},
   "source": [
    "## 3. Line Plot\n",
    "\n",
    "Let's visualize the distribution of sentiments in our sample data using a line plot."
   ]
  },
  {
   "cell_type": "code",
   "execution_count": 19,
   "id": "9b68acdb",
   "metadata": {},
   "outputs": [
    {
     "data": {
      "image/png": "[encoded data removed]",
      "text/plain": [
       "<Figure size 600x400 with 1 Axes>"
      ]
     },
     "metadata": {},
     "output_type": "display_data"
    }
   ],
   "source": [
    "sentiment_counts = df['sentiment'].value_counts().sort_index()\n",
    "plt.figure(figsize=(6,4))\n",
    "plt.plot(['Negative', 'Positive'], sentiment_counts, marker='o')\n",
    "plt.title('Sentiment Distribution')\n",
    "plt.xlabel('Sentiment')\n",
    "plt.ylabel('Count')\n",
    "plt.grid(True)\n",
    "plt.show()"
   ]
  },
  {
   "cell_type": "markdown",
   "id": "f8a022a0",
   "metadata": {},
   "source": [
    "## 4. Bar Chart\n",
    "\n",
    "Now, let's visualize the sentiment distribution using a bar chart."
   ]
  },
  {
   "cell_type": "code",
   "execution_count": 20,
   "id": "41403661",
   "metadata": {},
   "outputs": [
    {
     "data": {
      "image/png": "[encoded data removed]",
      "text/plain": [
       "<Figure size 600x400 with 1 Axes>"
      ]
     },
     "metadata": {},
     "output_type": "display_data"
    }
   ],
   "source": [
    "plt.figure(figsize=(6,4))\n",
    "sns.barplot(x=['Negative', 'Positive'], y=sentiment_counts.values)\n",
    "plt.title('Sentiment Distribution (Bar Chart)')\n",
    "plt.xlabel('Sentiment')\n",
    "plt.ylabel('Count')\n",
    "plt.show()"
   ]
  },
  {
   "cell_type": "markdown",
   "id": "7c2d53ee",
   "metadata": {},
   "source": [
    "## 5. Scatter Plot\n",
    "\n",
    "Let's create a scatter plot to visualize the length of each review versus its sentiment."
   ]
  },
  {
   "cell_type": "code",
   "execution_count": 21,
   "id": "4f1f60c1",
   "metadata": {},
   "outputs": [
    {
     "data": {
      "image/png": "[encoded data removed]",
      "text/plain": [
       "<Figure size 600x400 with 1 Axes>"
      ]
     },
     "metadata": {},
     "output_type": "display_data"
    }
   ],
   "source": [
    "df['review_length'] = df['review'].apply(len)\n",
    "plt.figure(figsize=(6,4))\n",
    "plt.scatter(df['review_length'], df['sentiment'], alpha=0.7)\n",
    "plt.title('Review Length vs Sentiment')\n",
    "plt.xlabel('Review Length (characters)')\n",
    "plt.ylabel('Sentiment (0=Negative, 1=Positive)')\n",
    "plt.yticks([0, 1], ['Negative', 'Positive'])\n",
    "plt.show()"
   ]
  },
  {
   "cell_type": "code",
   "execution_count": 22,
   "id": "d737e14e",
   "metadata": {},
   "outputs": [
    {
     "data": {
      "text/html": [
       "<div>\n",
       "<style scoped>\n",
       "    .dataframe tbody tr th:only-of-type {\n",
       "        vertical-align: middle;\n",
       "    }\n",
       "\n",
       "    .dataframe tbody tr th {\n",
       "        vertical-align: top;\n",
       "    }\n",
       "\n",
       "    .dataframe thead th {\n",
       "        text-align: right;\n",
       "    }\n",
       "</style>\n",
       "<table border=\"1\" class=\"dataframe\">\n",
       "  <thead>\n",
       "    <tr style=\"text-align: right;\">\n",
       "      <th></th>\n",
       "      <th>review</th>\n",
       "      <th>clean_review</th>\n",
       "    </tr>\n",
       "  </thead>\n",
       "  <tbody>\n",
       "    <tr>\n",
       "      <th>0</th>\n",
       "      <td>I loved this movie, it was fantastic!</td>\n",
       "      <td>loved movie fantastic</td>\n",
       "    </tr>\n",
       "    <tr>\n",
       "      <th>1</th>\n",
       "      <td>Absolutely terrible. Waste of time.</td>\n",
       "      <td>absolutely terrible waste time</td>\n",
       "    </tr>\n",
       "    <tr>\n",
       "      <th>2</th>\n",
       "      <td>A wonderful experience, would watch again.</td>\n",
       "      <td>wonderful experience watch</td>\n",
       "    </tr>\n",
       "    <tr>\n",
       "      <th>3</th>\n",
       "      <td>Not my cup of tea. Pretty boring.</td>\n",
       "      <td>cup tea pretty boring</td>\n",
       "    </tr>\n",
       "    <tr>\n",
       "      <th>4</th>\n",
       "      <td>Great acting and story!</td>\n",
       "      <td>great acting story</td>\n",
       "    </tr>\n",
       "  </tbody>\n",
       "</table>\n",
       "</div>"
      ],
      "text/plain": [
       "                                       review                    clean_review\n",
       "0       I loved this movie, it was fantastic!           loved movie fantastic\n",
       "1         Absolutely terrible. Waste of time.  absolutely terrible waste time\n",
       "2  A wonderful experience, would watch again.      wonderful experience watch\n",
       "3           Not my cup of tea. Pretty boring.           cup tea pretty boring\n",
       "4                     Great acting and story!              great acting story"
      ]
     },
     "execution_count": 22,
     "metadata": {},
     "output_type": "execute_result"
    }
   ],
   "source": [
    "# Text Preprocessing: Noise Removal and Normalization\n",
    "def preprocess_text(text):\n",
    "    text = text.lower()\n",
    "    text = re.sub(r'[^a-z\\s]', '', text)\n",
    "    words = [word for word in text.split() if word not in ENGLISH_STOP_WORDS]\n",
    "    return ' '.join(words)\n",
    "\n",
    "df['clean_review'] = df['review'].apply(preprocess_text)\n",
    "df[['review', 'clean_review']].head()"
   ]
  },
  {
   "cell_type": "markdown",
   "id": "a53e4acf",
   "metadata": {},
   "source": [
    "## 6. Feature Extraction, Model Training, and Evaluation\n",
    "\n",
    "Now, let's split the data, extract features, train a Naive Bayes classifier, and evaluate its performance."
   ]
  },
  {
   "cell_type": "code",
   "execution_count": 23,
   "id": "b357e472",
   "metadata": {},
   "outputs": [
    {
     "name": "stdout",
     "output_type": "stream",
     "text": [
      "Accuracy: 0.5\n",
      "\n",
      "Classification Report:\n",
      "               precision    recall  f1-score   support\n",
      "\n",
      "           0       0.50      1.00      0.67         1\n",
      "           1       0.00      0.00      0.00         1\n",
      "\n",
      "    accuracy                           0.50         2\n",
      "   macro avg       0.25      0.50      0.33         2\n",
      "weighted avg       0.25      0.50      0.33         2\n",
      "\n",
      "Confusion Matrix:\n",
      " [[1 0]\n",
      " [1 0]]\n"
     ]
    }
   ],
   "source": [
    "# Use the cleaned reviews for modeling\n",
    "X = df['clean_review']\n",
    "y = df['sentiment']\n",
    "\n",
    "X_train, X_test, y_train, y_test = train_test_split(X, y, test_size=0.3, random_state=42)\n",
    "vectorizer = CountVectorizer(stop_words='english')\n",
    "X_train_vec = vectorizer.fit_transform(X_train)\n",
    "X_test_vec = vectorizer.transform(X_test)\n",
    "\n",
    "model = MultinomialNB()\n",
    "model.fit(X_train_vec, y_train)\n",
    "y_pred = model.predict(X_test_vec)\n",
    "\n",
    "print('Accuracy:', accuracy_score(y_test, y_pred))\n",
    "print('\\nClassification Report:\\n', classification_report(y_test, y_pred, zero_division=0))\n",
    "print('Confusion Matrix:\\n', confusion_matrix(y_test, y_pred))"
   ]
  },
  {
   "cell_type": "markdown",
   "id": "0000ed79",
   "metadata": {},
   "source": [
    "## 7. Predict Sentiment for New Reviews\n",
    "\n",
    "Let's use the trained model to predict the sentiment of new, unseen movie reviews."
   ]
  },
  {
   "cell_type": "code",
   "execution_count": 24,
   "id": "b1c4b127",
   "metadata": {},
   "outputs": [
    {
     "name": "stdout",
     "output_type": "stream",
     "text": [
      "Review: \"This movie was a fantastic experience!\"\n",
      "Predicted Sentiment: Positive\n",
      "\n",
      "Review: \"I didn't like the film, it was boring.\"\n",
      "Predicted Sentiment: Negative\n",
      "\n",
      "Review: \"The acting was great but the story was weak.\"\n",
      "Predicted Sentiment: Positive\n",
      "\n",
      "Review: \"Absolutely loved the visuals and music!\"\n",
      "Predicted Sentiment: Negative\n",
      "\n"
     ]
    }
   ],
   "source": [
    "# Example new reviews\n",
    "new_reviews = [\n",
    "    \"This movie was a fantastic experience!\",\n",
    "    \"I didn't like the film, it was boring.\",\n",
    "    \"The acting was great but the story was weak.\",\n",
    "    \"Absolutely loved the visuals and music!\"\n",
    "]\n",
    "\n",
    "# Transform and predict\n",
    "new_reviews_vec = vectorizer.transform(new_reviews)\n",
    "predictions = model.predict(new_reviews_vec)\n",
    "\n",
    "for review, sentiment in zip(new_reviews, predictions):\n",
    "    print(f'Review: \"{review}\"')\n",
    "    print(f'Predicted Sentiment: {\"Positive\" if sentiment == 1 else \"Negative\"}\\n')"
   ]
  },
  {
   "cell_type": "markdown",
   "id": "8a5c0c94",
   "metadata": {},
   "source": [
    "# Project Summary: Sentiment Analysis on Movie Reviews\n",
    "\n",
    "**Objective:**\n",
    "Build a machine learning model to classify movie reviews as positive or negative using natural language processing (NLP) techniques and data visualization.\n",
    "\n",
    "**Key Skills Demonstrated:**\n",
    "- Data preprocessing and feature engineering\n",
    "- Exploratory data analysis and visualization (Matplotlib, Seaborn)\n",
    "- Text vectorization (Bag-of-Words)\n",
    "- Model training and evaluation (Naive Bayes)\n",
    "- Python, pandas, scikit-learn, matplotlib, seaborn\n",
    "\n",
    "**Project Impact:**\n",
    "This project showcases the ability to apply NLP and machine learning to real-world text data, providing actionable insights into customer sentiment for the entertainment industry.\n",
    "\n",
    "---"
   ]
  }
 ],
 "metadata": {
  "kernelspec": {
   "display_name": "Python 3",
   "language": "python",
   "name": "python3"
  },
  "language_info": {
   "codemirror_mode": {
    "name": "ipython",
    "version": 3
   },
   "file_extension": ".py",
   "mimetype": "text/x-python",
   "name": "python",
   "nbconvert_exporter": "python",
   "pygments_lexer": "ipython3",
   "version": "3.12.3"
  }
 },
 "nbformat": 4,
 "nbformat_minor": 5
}
